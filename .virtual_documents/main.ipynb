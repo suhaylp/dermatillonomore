!pip install mediapipe opencv-python


import mediapipe as mp
import cv2
import numpy as np
import uuid
import os
from IPython.display import Image


mp_drawing = mp.solutions.drawing_utils
#mp_hands = mp.solutions.hands
mp_holistic = mp.solutions.holistic


Image(url="https://i.imgur.com/qpRACer.png")


mp_drawing.DrawingSpec(color=(0,0,255), thickness=2, circle_radius=2)



#mp_drawing.draw_landmarks??



cap = cv2.VideoCapture(0)
# Initiate holistic model
with mp_holistic.Holistic(min_detection_confidence=0.5, min_tracking_confidence=0.5) as holistic:
    
    while cap.isOpened():
        ret, frame = cap.read()
        
        # Recolor Feed
        image = cv2.cvtColor(frame, cv2.COLOR_BGR2RGB)
        #Flip horizontal
        image = cv2.flip(image, 1)
        # Make Detections
        results = holistic.process(image)
        # print(results.face_landmarks)
        
        # face_landmarks, pose_landmarks, left_hand_landmarks, right_hand_landmarks
        
        # Recolor image back to BGR for rendering
        image = cv2.cvtColor(image, cv2.COLOR_RGB2BGR)
        
        # 1. Draw face landmarks
        mp_drawing.draw_landmarks(image, results.face_landmarks, mp_holistic.FACEMESH_TESSELATION, 
                                 mp_drawing.DrawingSpec(color=(80,110,10), thickness=1, circle_radius=1),
                                 mp_drawing.DrawingSpec(color=(80,256,121), thickness=1, circle_radius=1)
                                 )
        
       # 2. Right hand landmarks
        if results.right_hand_landmarks:
            mp_drawing.draw_landmarks(image, results.right_hand_landmarks, mp_holistic.HAND_CONNECTIONS, 
                                     mp_drawing.DrawingSpec(color=(80,22,10), thickness=2, circle_radius=4),
                                     mp_drawing.DrawingSpec(color=(80,44,121), thickness=2, circle_radius=2)
                                     )
            
            # Extract right hand fingertips (points 4, 8, 12, 16, 20)
            right_fingertips = [4, 8, 12, 16, 20]
            right_fingertip_coords = []
            for idx in right_fingertips:
                landmark = results.right_hand_landmarks.landmark[idx]
                x, y = int(landmark.x * image.shape[1]), int(landmark.y * image.shape[0])
                right_fingertip_coords.append((x, y))
                # Draw a circle at each fingertip
                cv2.circle(image, (x, y), 5, (0, 255, 0), -1)
                cv2.putText(image, f"Fingertip {idx}", (x + 10, y), cv2.FONT_HERSHEY_SIMPLEX, 0.5, (0, 255, 0), 1, cv2.LINE_AA)
        
        # 3. Left hand landmarks
        if results.left_hand_landmarks:
            mp_drawing.draw_landmarks(image, results.left_hand_landmarks, mp_holistic.HAND_CONNECTIONS, 
                                     mp_drawing.DrawingSpec(color=(121,22,76), thickness=2, circle_radius=4),
                                     mp_drawing.DrawingSpec(color=(121,44,250), thickness=2, circle_radius=2)
                                     )
            
            # Extract left hand fingertips (points 4, 8, 12, 16, 20)
            left_fingertips = [4, 8, 12, 16, 20]
            left_fingertip_coords = []
            for idx in left_fingertips:
                landmark = results.left_hand_landmarks.landmark[idx]
                x, y = int(landmark.x * image.shape[1]), int(landmark.y * image.shape[0])
                left_fingertip_coords.append((x, y))
                # Draw a circle at each fingertip
                cv2.circle(image, (x, y), 5, (255, 0, 0), -1)
                cv2.putText(image, f"Fingertip {idx}", (x + 10, y), cv2.FONT_HERSHEY_SIMPLEX, 0.5, (255, 0, 0), 1, cv2.LINE_AA)

       
        cv2.imshow('Raw Webcam Feed', image)


        if cv2.waitKey(10) & 0xFF == ord('q'):
            break
            

cap.release()
cv2.destroyAllWindows()






